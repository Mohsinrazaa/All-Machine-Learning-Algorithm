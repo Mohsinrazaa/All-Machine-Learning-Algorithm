{
 "cells": [
  {
   "cell_type": "code",
   "execution_count": 1,
   "metadata": {
    "colab": {
     "autoexec": {
      "startup": false,
      "wait_interval": 0
     }
    },
    "colab_type": "code",
    "id": "JhLJojW0DMRV"
   },
   "outputs": [],
   "source": [
    "import sqlite3\n",
    "import numpy as np\n",
    "import pandas as pd\n",
    "%matplotlib notebook\n",
    "import matplotlib.pyplot as plt\n",
    "import xgboost as xgb\n",
    "from xgboost.sklearn import XGBRegressor\n",
    "from xgboost import plot_importance\n",
    "\n",
    "from sklearn.linear_model import LinearRegression\n",
    "from sklearn.tree import DecisionTreeRegressor\n",
    "from sklearn.ensemble import RandomForestRegressor\n",
    "from sklearn.preprocessing import Imputer, StandardScaler\n",
    "from sklearn.feature_selection import SelectFromModel\n",
    "from sklearn.model_selection import train_test_split, GridSearchCV, ShuffleSplit, RandomizedSearchCV\n",
    "from sklearn.pipeline import make_pipeline\n",
    "\n",
    "import pickle"
   ]
  },
  {
   "cell_type": "code",
   "execution_count": 2,
   "metadata": {
    "colab": {
     "autoexec": {
      "startup": false,
      "wait_interval": 0
     }
    },
    "colab_type": "code",
    "id": "WNI7ibaxDMRb"
   },
   "outputs": [],
   "source": [
    "cnx = sqlite3.connect('database.sqlite')"
   ]
  },
  {
   "cell_type": "code",
   "execution_count": 3,
   "metadata": {},
   "outputs": [],
   "source": [
    "dd = pd.read_sql_query(\"SELECT name FROM sqlite_master WHERE type='table'\", cnx)"
   ]
  },
  {
   "cell_type": "code",
   "execution_count": 4,
   "metadata": {},
   "outputs": [
    {
     "name": "stdout",
     "output_type": "stream",
     "text": [
      "                name\n",
      "0    sqlite_sequence\n",
      "1  Player_Attributes\n",
      "2             Player\n",
      "3              Match\n",
      "4             League\n",
      "5            Country\n",
      "6               Team\n",
      "7    Team_Attributes\n"
     ]
    }
   ],
   "source": [
    "print(dd)"
   ]
  },
  {
   "cell_type": "code",
   "execution_count": 5,
   "metadata": {
    "colab": {
     "autoexec": {
      "startup": false,
      "wait_interval": 0
     }
    },
    "colab_type": "code",
    "id": "8HohvjfcDMRf"
   },
   "outputs": [],
   "source": [
    "df = pd.read_sql_query(\"SELECT * FROM Player_Attributes\", cnx)"
   ]
  },
  {
   "cell_type": "code",
   "execution_count": 6,
   "metadata": {
    "colab": {
     "autoexec": {
      "startup": false,
      "wait_interval": 0
     },
     "base_uri": "https://localhost:8080/",
     "height": 423
    },
    "colab_type": "code",
    "executionInfo": {
     "elapsed": 971,
     "status": "ok",
     "timestamp": 1525756635404,
     "user": {
      "displayName": "prakash mishra",
      "photoUrl": "//lh4.googleusercontent.com/-Ej6Y_cq-EAg/AAAAAAAAAAI/AAAAAAAAU3w/qb7u8oox_eU/s50-c-k-no/photo.jpg",
      "userId": "115150043305705155208"
     },
     "user_tz": -330
    },
    "id": "AykT_5AZDMRh",
    "outputId": "e5394b85-f500-4384-8c6c-88769c6517e4"
   },
   "outputs": [
    {
     "data": {
      "text/html": [
       "<div>\n",
       "<style scoped>\n",
       "    .dataframe tbody tr th:only-of-type {\n",
       "        vertical-align: middle;\n",
       "    }\n",
       "\n",
       "    .dataframe tbody tr th {\n",
       "        vertical-align: top;\n",
       "    }\n",
       "\n",
       "    .dataframe thead th {\n",
       "        text-align: right;\n",
       "    }\n",
       "</style>\n",
       "<table border=\"1\" class=\"dataframe\">\n",
       "  <thead>\n",
       "    <tr style=\"text-align: right;\">\n",
       "      <th></th>\n",
       "      <th>id</th>\n",
       "      <th>player_fifa_api_id</th>\n",
       "      <th>player_api_id</th>\n",
       "      <th>date</th>\n",
       "      <th>overall_rating</th>\n",
       "      <th>potential</th>\n",
       "      <th>preferred_foot</th>\n",
       "      <th>attacking_work_rate</th>\n",
       "      <th>defensive_work_rate</th>\n",
       "      <th>crossing</th>\n",
       "      <th>...</th>\n",
       "      <th>vision</th>\n",
       "      <th>penalties</th>\n",
       "      <th>marking</th>\n",
       "      <th>standing_tackle</th>\n",
       "      <th>sliding_tackle</th>\n",
       "      <th>gk_diving</th>\n",
       "      <th>gk_handling</th>\n",
       "      <th>gk_kicking</th>\n",
       "      <th>gk_positioning</th>\n",
       "      <th>gk_reflexes</th>\n",
       "    </tr>\n",
       "  </thead>\n",
       "  <tbody>\n",
       "    <tr>\n",
       "      <th>0</th>\n",
       "      <td>1</td>\n",
       "      <td>218353</td>\n",
       "      <td>505942</td>\n",
       "      <td>2016-02-18 00:00:00</td>\n",
       "      <td>67.0</td>\n",
       "      <td>71.0</td>\n",
       "      <td>right</td>\n",
       "      <td>medium</td>\n",
       "      <td>medium</td>\n",
       "      <td>49.0</td>\n",
       "      <td>...</td>\n",
       "      <td>54.0</td>\n",
       "      <td>48.0</td>\n",
       "      <td>65.0</td>\n",
       "      <td>69.0</td>\n",
       "      <td>69.0</td>\n",
       "      <td>6.0</td>\n",
       "      <td>11.0</td>\n",
       "      <td>10.0</td>\n",
       "      <td>8.0</td>\n",
       "      <td>8.0</td>\n",
       "    </tr>\n",
       "    <tr>\n",
       "      <th>1</th>\n",
       "      <td>2</td>\n",
       "      <td>218353</td>\n",
       "      <td>505942</td>\n",
       "      <td>2015-11-19 00:00:00</td>\n",
       "      <td>67.0</td>\n",
       "      <td>71.0</td>\n",
       "      <td>right</td>\n",
       "      <td>medium</td>\n",
       "      <td>medium</td>\n",
       "      <td>49.0</td>\n",
       "      <td>...</td>\n",
       "      <td>54.0</td>\n",
       "      <td>48.0</td>\n",
       "      <td>65.0</td>\n",
       "      <td>69.0</td>\n",
       "      <td>69.0</td>\n",
       "      <td>6.0</td>\n",
       "      <td>11.0</td>\n",
       "      <td>10.0</td>\n",
       "      <td>8.0</td>\n",
       "      <td>8.0</td>\n",
       "    </tr>\n",
       "    <tr>\n",
       "      <th>2</th>\n",
       "      <td>3</td>\n",
       "      <td>218353</td>\n",
       "      <td>505942</td>\n",
       "      <td>2015-09-21 00:00:00</td>\n",
       "      <td>62.0</td>\n",
       "      <td>66.0</td>\n",
       "      <td>right</td>\n",
       "      <td>medium</td>\n",
       "      <td>medium</td>\n",
       "      <td>49.0</td>\n",
       "      <td>...</td>\n",
       "      <td>54.0</td>\n",
       "      <td>48.0</td>\n",
       "      <td>65.0</td>\n",
       "      <td>66.0</td>\n",
       "      <td>69.0</td>\n",
       "      <td>6.0</td>\n",
       "      <td>11.0</td>\n",
       "      <td>10.0</td>\n",
       "      <td>8.0</td>\n",
       "      <td>8.0</td>\n",
       "    </tr>\n",
       "    <tr>\n",
       "      <th>3</th>\n",
       "      <td>4</td>\n",
       "      <td>218353</td>\n",
       "      <td>505942</td>\n",
       "      <td>2015-03-20 00:00:00</td>\n",
       "      <td>61.0</td>\n",
       "      <td>65.0</td>\n",
       "      <td>right</td>\n",
       "      <td>medium</td>\n",
       "      <td>medium</td>\n",
       "      <td>48.0</td>\n",
       "      <td>...</td>\n",
       "      <td>53.0</td>\n",
       "      <td>47.0</td>\n",
       "      <td>62.0</td>\n",
       "      <td>63.0</td>\n",
       "      <td>66.0</td>\n",
       "      <td>5.0</td>\n",
       "      <td>10.0</td>\n",
       "      <td>9.0</td>\n",
       "      <td>7.0</td>\n",
       "      <td>7.0</td>\n",
       "    </tr>\n",
       "    <tr>\n",
       "      <th>4</th>\n",
       "      <td>5</td>\n",
       "      <td>218353</td>\n",
       "      <td>505942</td>\n",
       "      <td>2007-02-22 00:00:00</td>\n",
       "      <td>61.0</td>\n",
       "      <td>65.0</td>\n",
       "      <td>right</td>\n",
       "      <td>medium</td>\n",
       "      <td>medium</td>\n",
       "      <td>48.0</td>\n",
       "      <td>...</td>\n",
       "      <td>53.0</td>\n",
       "      <td>47.0</td>\n",
       "      <td>62.0</td>\n",
       "      <td>63.0</td>\n",
       "      <td>66.0</td>\n",
       "      <td>5.0</td>\n",
       "      <td>10.0</td>\n",
       "      <td>9.0</td>\n",
       "      <td>7.0</td>\n",
       "      <td>7.0</td>\n",
       "    </tr>\n",
       "  </tbody>\n",
       "</table>\n",
       "<p>5 rows × 42 columns</p>\n",
       "</div>"
      ],
      "text/plain": [
       "   id  player_fifa_api_id  player_api_id                 date  overall_rating  \\\n",
       "0   1              218353         505942  2016-02-18 00:00:00            67.0   \n",
       "1   2              218353         505942  2015-11-19 00:00:00            67.0   \n",
       "2   3              218353         505942  2015-09-21 00:00:00            62.0   \n",
       "3   4              218353         505942  2015-03-20 00:00:00            61.0   \n",
       "4   5              218353         505942  2007-02-22 00:00:00            61.0   \n",
       "\n",
       "   potential preferred_foot attacking_work_rate defensive_work_rate  crossing  \\\n",
       "0       71.0          right              medium              medium      49.0   \n",
       "1       71.0          right              medium              medium      49.0   \n",
       "2       66.0          right              medium              medium      49.0   \n",
       "3       65.0          right              medium              medium      48.0   \n",
       "4       65.0          right              medium              medium      48.0   \n",
       "\n",
       "      ...       vision  penalties  marking  standing_tackle  sliding_tackle  \\\n",
       "0     ...         54.0       48.0     65.0             69.0            69.0   \n",
       "1     ...         54.0       48.0     65.0             69.0            69.0   \n",
       "2     ...         54.0       48.0     65.0             66.0            69.0   \n",
       "3     ...         53.0       47.0     62.0             63.0            66.0   \n",
       "4     ...         53.0       47.0     62.0             63.0            66.0   \n",
       "\n",
       "   gk_diving  gk_handling  gk_kicking  gk_positioning  gk_reflexes  \n",
       "0        6.0         11.0        10.0             8.0          8.0  \n",
       "1        6.0         11.0        10.0             8.0          8.0  \n",
       "2        6.0         11.0        10.0             8.0          8.0  \n",
       "3        5.0         10.0         9.0             7.0          7.0  \n",
       "4        5.0         10.0         9.0             7.0          7.0  \n",
       "\n",
       "[5 rows x 42 columns]"
      ]
     },
     "execution_count": 6,
     "metadata": {},
     "output_type": "execute_result"
    }
   ],
   "source": [
    "df.head()"
   ]
  },
  {
   "cell_type": "code",
   "execution_count": 7,
   "metadata": {
    "colab": {
     "autoexec": {
      "startup": false,
      "wait_interval": 0
     }
    },
    "colab_type": "code",
    "id": "xKfKgkI2DMRo"
   },
   "outputs": [],
   "source": [
    "target = df.pop('overall_rating')"
   ]
  },
  {
   "cell_type": "code",
   "execution_count": 8,
   "metadata": {
    "colab": {
     "autoexec": {
      "startup": false,
      "wait_interval": 0
     },
     "base_uri": "https://localhost:8080/",
     "height": 34
    },
    "colab_type": "code",
    "executionInfo": {
     "elapsed": 943,
     "status": "ok",
     "timestamp": 1525756638871,
     "user": {
      "displayName": "prakash mishra",
      "photoUrl": "//lh4.googleusercontent.com/-Ej6Y_cq-EAg/AAAAAAAAAAI/AAAAAAAAU3w/qb7u8oox_eU/s50-c-k-no/photo.jpg",
      "userId": "115150043305705155208"
     },
     "user_tz": -330
    },
    "id": "jIAuRYeSDMRr",
    "outputId": "131ffbfd-2b06-4a6c-fb8f-52c62b8c6ad5"
   },
   "outputs": [
    {
     "data": {
      "text/plain": [
       "(183978, 41)"
      ]
     },
     "execution_count": 8,
     "metadata": {},
     "output_type": "execute_result"
    }
   ],
   "source": [
    "df.shape"
   ]
  },
  {
   "cell_type": "code",
   "execution_count": 9,
   "metadata": {
    "colab": {
     "autoexec": {
      "startup": false,
      "wait_interval": 0
     },
     "base_uri": "https://localhost:8080/",
     "height": 119
    },
    "colab_type": "code",
    "executionInfo": {
     "elapsed": 892,
     "status": "ok",
     "timestamp": 1525756639851,
     "user": {
      "displayName": "prakash mishra",
      "photoUrl": "//lh4.googleusercontent.com/-Ej6Y_cq-EAg/AAAAAAAAAAI/AAAAAAAAU3w/qb7u8oox_eU/s50-c-k-no/photo.jpg",
      "userId": "115150043305705155208"
     },
     "user_tz": -330
    },
    "id": "1zU01-qiDMRw",
    "outputId": "70b1cabd-f5ed-4535-cc19-846b93aec55f"
   },
   "outputs": [
    {
     "data": {
      "text/plain": [
       "0    67.0\n",
       "1    67.0\n",
       "2    62.0\n",
       "3    61.0\n",
       "4    61.0\n",
       "Name: overall_rating, dtype: float64"
      ]
     },
     "execution_count": 9,
     "metadata": {},
     "output_type": "execute_result"
    }
   ],
   "source": [
    "target.head()"
   ]
  },
  {
   "cell_type": "markdown",
   "metadata": {
    "colab_type": "text",
    "id": "23I6XR4jDMR0"
   },
   "source": [
    "## Imputing target funtion :"
   ]
  },
  {
   "cell_type": "code",
   "execution_count": 10,
   "metadata": {
    "colab": {
     "autoexec": {
      "startup": false,
      "wait_interval": 0
     },
     "base_uri": "https://localhost:8080/",
     "height": 34
    },
    "colab_type": "code",
    "executionInfo": {
     "elapsed": 864,
     "status": "ok",
     "timestamp": 1525756640822,
     "user": {
      "displayName": "prakash mishra",
      "photoUrl": "//lh4.googleusercontent.com/-Ej6Y_cq-EAg/AAAAAAAAAAI/AAAAAAAAU3w/qb7u8oox_eU/s50-c-k-no/photo.jpg",
      "userId": "115150043305705155208"
     },
     "user_tz": -330
    },
    "id": "KCU9Kt2-DMR1",
    "outputId": "d060d796-c30f-4557-8f60-a208bb07f062"
   },
   "outputs": [
    {
     "data": {
      "text/plain": [
       "836"
      ]
     },
     "execution_count": 10,
     "metadata": {},
     "output_type": "execute_result"
    }
   ],
   "source": [
    "target.isnull().values.sum()"
   ]
  },
  {
   "cell_type": "markdown",
   "metadata": {
    "colab_type": "text",
    "id": "KxqzwtBMDMR5"
   },
   "source": [
    "there are 836 missing value present in target function."
   ]
  },
  {
   "cell_type": "code",
   "execution_count": 11,
   "metadata": {
    "colab": {
     "autoexec": {
      "startup": false,
      "wait_interval": 0
     },
     "base_uri": "https://localhost:8080/",
     "height": 170
    },
    "colab_type": "code",
    "executionInfo": {
     "elapsed": 1270,
     "status": "ok",
     "timestamp": 1525756642238,
     "user": {
      "displayName": "prakash mishra",
      "photoUrl": "//lh4.googleusercontent.com/-Ej6Y_cq-EAg/AAAAAAAAAAI/AAAAAAAAU3w/qb7u8oox_eU/s50-c-k-no/photo.jpg",
      "userId": "115150043305705155208"
     },
     "user_tz": -330
    },
    "id": "FeUp8fssDMR7",
    "outputId": "e7207704-72ba-427a-9df4-62f4308d16b9"
   },
   "outputs": [
    {
     "data": {
      "text/plain": [
       "count    183142.000000\n",
       "mean         68.600015\n",
       "std           7.041139\n",
       "min          33.000000\n",
       "25%          64.000000\n",
       "50%          69.000000\n",
       "75%          73.000000\n",
       "max          94.000000\n",
       "Name: overall_rating, dtype: float64"
      ]
     },
     "execution_count": 11,
     "metadata": {},
     "output_type": "execute_result"
    }
   ],
   "source": [
    "target.describe()"
   ]
  },
  {
   "cell_type": "code",
   "execution_count": 12,
   "metadata": {
    "colab": {
     "autoexec": {
      "startup": false,
      "wait_interval": 0
     },
     "base_uri": "https://localhost:8080/",
     "height": 323
    },
    "colab_type": "code",
    "executionInfo": {
     "elapsed": 1088,
     "status": "ok",
     "timestamp": 1525756643422,
     "user": {
      "displayName": "prakash mishra",
      "photoUrl": "//lh4.googleusercontent.com/-Ej6Y_cq-EAg/AAAAAAAAAAI/AAAAAAAAU3w/qb7u8oox_eU/s50-c-k-no/photo.jpg",
      "userId": "115150043305705155208"
     },
     "user_tz": -330
    },
    "id": "jvr8PUMkDMR_",
    "outputId": "68e869ba-e981-4b6e-cac5-3ee09c64b649"
   },
   "outputs": [
    {
     "data": {
      "application/javascript": [
       "/* Put everything inside the global mpl namespace */\n",
       "window.mpl = {};\n",
       "\n",
       "\n",
       "mpl.get_websocket_type = function() {\n",
       "    if (typeof(WebSocket) !== 'undefined') {\n",
       "        return WebSocket;\n",
       "    } else if (typeof(MozWebSocket) !== 'undefined') {\n",
       "        return MozWebSocket;\n",
       "    } else {\n",
       "        alert('Your browser does not have WebSocket support.' +\n",
       "              'Please try Chrome, Safari or Firefox ≥ 6. ' +\n",
       "              'Firefox 4 and 5 are also supported but you ' +\n",
       "              'have to enable WebSockets in about:config.');\n",
       "    };\n",
       "}\n",
       "\n",
       "mpl.figure = function(figure_id, websocket, ondownload, parent_element) {\n",
       "    this.id = figure_id;\n",
       "\n",
       "    this.ws = websocket;\n",
       "\n",
       "    this.supports_binary = (this.ws.binaryType != undefined);\n",
       "\n",
       "    if (!this.supports_binary) {\n",
       "        var warnings = document.getElementById(\"mpl-warnings\");\n",
       "        if (warnings) {\n",
       "            warnings.style.display = 'block';\n",
       "            warnings.textContent = (\n",
       "                \"This browser does not support binary websocket messages. \" +\n",
       "                    \"Performance may be slow.\");\n",
       "        }\n",
       "    }\n",
       "\n",
       "    this.imageObj = new Image();\n",
       "\n",
       "    this.context = undefined;\n",
       "    this.message = undefined;\n",
       "    this.canvas = undefined;\n",
       "    this.rubberband_canvas = undefined;\n",
       "    this.rubberband_context = undefined;\n",
       "    this.format_dropdown = undefined;\n",
       "\n",
       "    this.image_mode = 'full';\n",
       "\n",
       "    this.root = $('<div/>');\n",
       "    this._root_extra_style(this.root)\n",
       "    this.root.attr('style', 'display: inline-block');\n",
       "\n",
       "    $(parent_element).append(this.root);\n",
       "\n",
       "    this._init_header(this);\n",
       "    this._init_canvas(this);\n",
       "    this._init_toolbar(this);\n",
       "\n",
       "    var fig = this;\n",
       "\n",
       "    this.waiting = false;\n",
       "\n",
       "    this.ws.onopen =  function () {\n",
       "            fig.send_message(\"supports_binary\", {value: fig.supports_binary});\n",
       "            fig.send_message(\"send_image_mode\", {});\n",
       "            if (mpl.ratio != 1) {\n",
       "                fig.send_message(\"set_dpi_ratio\", {'dpi_ratio': mpl.ratio});\n",
       "            }\n",
       "            fig.send_message(\"refresh\", {});\n",
       "        }\n",
       "\n",
       "    this.imageObj.onload = function() {\n",
       "            if (fig.image_mode == 'full') {\n",
       "                // Full images could contain transparency (where diff images\n",
       "                // almost always do), so we need to clear the canvas so that\n",
       "                // there is no ghosting.\n",
       "                fig.context.clearRect(0, 0, fig.canvas.width, fig.canvas.height);\n",
       "            }\n",
       "            fig.context.drawImage(fig.imageObj, 0, 0);\n",
       "        };\n",
       "\n",
       "    this.imageObj.onunload = function() {\n",
       "        fig.ws.close();\n",
       "    }\n",
       "\n",
       "    this.ws.onmessage = this._make_on_message_function(this);\n",
       "\n",
       "    this.ondownload = ondownload;\n",
       "}\n",
       "\n",
       "mpl.figure.prototype._init_header = function() {\n",
       "    var titlebar = $(\n",
       "        '<div class=\"ui-dialog-titlebar ui-widget-header ui-corner-all ' +\n",
       "        'ui-helper-clearfix\"/>');\n",
       "    var titletext = $(\n",
       "        '<div class=\"ui-dialog-title\" style=\"width: 100%; ' +\n",
       "        'text-align: center; padding: 3px;\"/>');\n",
       "    titlebar.append(titletext)\n",
       "    this.root.append(titlebar);\n",
       "    this.header = titletext[0];\n",
       "}\n",
       "\n",
       "\n",
       "\n",
       "mpl.figure.prototype._canvas_extra_style = function(canvas_div) {\n",
       "\n",
       "}\n",
       "\n",
       "\n",
       "mpl.figure.prototype._root_extra_style = function(canvas_div) {\n",
       "\n",
       "}\n",
       "\n",
       "mpl.figure.prototype._init_canvas = function() {\n",
       "    var fig = this;\n",
       "\n",
       "    var canvas_div = $('<div/>');\n",
       "\n",
       "    canvas_div.attr('style', 'position: relative; clear: both; outline: 0');\n",
       "\n",
       "    function canvas_keyboard_event(event) {\n",
       "        return fig.key_event(event, event['data']);\n",
       "    }\n",
       "\n",
       "    canvas_div.keydown('key_press', canvas_keyboard_event);\n",
       "    canvas_div.keyup('key_release', canvas_keyboard_event);\n",
       "    this.canvas_div = canvas_div\n",
       "    this._canvas_extra_style(canvas_div)\n",
       "    this.root.append(canvas_div);\n",
       "\n",
       "    var canvas = $('<canvas/>');\n",
       "    canvas.addClass('mpl-canvas');\n",
       "    canvas.attr('style', \"left: 0; top: 0; z-index: 0; outline: 0\")\n",
       "\n",
       "    this.canvas = canvas[0];\n",
       "    this.context = canvas[0].getContext(\"2d\");\n",
       "\n",
       "    var backingStore = this.context.backingStorePixelRatio ||\n",
       "\tthis.context.webkitBackingStorePixelRatio ||\n",
       "\tthis.context.mozBackingStorePixelRatio ||\n",
       "\tthis.context.msBackingStorePixelRatio ||\n",
       "\tthis.context.oBackingStorePixelRatio ||\n",
       "\tthis.context.backingStorePixelRatio || 1;\n",
       "\n",
       "    mpl.ratio = (window.devicePixelRatio || 1) / backingStore;\n",
       "\n",
       "    var rubberband = $('<canvas/>');\n",
       "    rubberband.attr('style', \"position: absolute; left: 0; top: 0; z-index: 1;\")\n",
       "\n",
       "    var pass_mouse_events = true;\n",
       "\n",
       "    canvas_div.resizable({\n",
       "        start: function(event, ui) {\n",
       "            pass_mouse_events = false;\n",
       "        },\n",
       "        resize: function(event, ui) {\n",
       "            fig.request_resize(ui.size.width, ui.size.height);\n",
       "        },\n",
       "        stop: function(event, ui) {\n",
       "            pass_mouse_events = true;\n",
       "            fig.request_resize(ui.size.width, ui.size.height);\n",
       "        },\n",
       "    });\n",
       "\n",
       "    function mouse_event_fn(event) {\n",
       "        if (pass_mouse_events)\n",
       "            return fig.mouse_event(event, event['data']);\n",
       "    }\n",
       "\n",
       "    rubberband.mousedown('button_press', mouse_event_fn);\n",
       "    rubberband.mouseup('button_release', mouse_event_fn);\n",
       "    // Throttle sequential mouse events to 1 every 20ms.\n",
       "    rubberband.mousemove('motion_notify', mouse_event_fn);\n",
       "\n",
       "    rubberband.mouseenter('figure_enter', mouse_event_fn);\n",
       "    rubberband.mouseleave('figure_leave', mouse_event_fn);\n",
       "\n",
       "    canvas_div.on(\"wheel\", function (event) {\n",
       "        event = event.originalEvent;\n",
       "        event['data'] = 'scroll'\n",
       "        if (event.deltaY < 0) {\n",
       "            event.step = 1;\n",
       "        } else {\n",
       "            event.step = -1;\n",
       "        }\n",
       "        mouse_event_fn(event);\n",
       "    });\n",
       "\n",
       "    canvas_div.append(canvas);\n",
       "    canvas_div.append(rubberband);\n",
       "\n",
       "    this.rubberband = rubberband;\n",
       "    this.rubberband_canvas = rubberband[0];\n",
       "    this.rubberband_context = rubberband[0].getContext(\"2d\");\n",
       "    this.rubberband_context.strokeStyle = \"#000000\";\n",
       "\n",
       "    this._resize_canvas = function(width, height) {\n",
       "        // Keep the size of the canvas, canvas container, and rubber band\n",
       "        // canvas in synch.\n",
       "        canvas_div.css('width', width)\n",
       "        canvas_div.css('height', height)\n",
       "\n",
       "        canvas.attr('width', width * mpl.ratio);\n",
       "        canvas.attr('height', height * mpl.ratio);\n",
       "        canvas.attr('style', 'width: ' + width + 'px; height: ' + height + 'px;');\n",
       "\n",
       "        rubberband.attr('width', width);\n",
       "        rubberband.attr('height', height);\n",
       "    }\n",
       "\n",
       "    // Set the figure to an initial 600x600px, this will subsequently be updated\n",
       "    // upon first draw.\n",
       "    this._resize_canvas(600, 600);\n",
       "\n",
       "    // Disable right mouse context menu.\n",
       "    $(this.rubberband_canvas).bind(\"contextmenu\",function(e){\n",
       "        return false;\n",
       "    });\n",
       "\n",
       "    function set_focus () {\n",
       "        canvas.focus();\n",
       "        canvas_div.focus();\n",
       "    }\n",
       "\n",
       "    window.setTimeout(set_focus, 100);\n",
       "}\n",
       "\n",
       "mpl.figure.prototype._init_toolbar = function() {\n",
       "    var fig = this;\n",
       "\n",
       "    var nav_element = $('<div/>')\n",
       "    nav_element.attr('style', 'width: 100%');\n",
       "    this.root.append(nav_element);\n",
       "\n",
       "    // Define a callback function for later on.\n",
       "    function toolbar_event(event) {\n",
       "        return fig.toolbar_button_onclick(event['data']);\n",
       "    }\n",
       "    function toolbar_mouse_event(event) {\n",
       "        return fig.toolbar_button_onmouseover(event['data']);\n",
       "    }\n",
       "\n",
       "    for(var toolbar_ind in mpl.toolbar_items) {\n",
       "        var name = mpl.toolbar_items[toolbar_ind][0];\n",
       "        var tooltip = mpl.toolbar_items[toolbar_ind][1];\n",
       "        var image = mpl.toolbar_items[toolbar_ind][2];\n",
       "        var method_name = mpl.toolbar_items[toolbar_ind][3];\n",
       "\n",
       "        if (!name) {\n",
       "            // put a spacer in here.\n",
       "            continue;\n",
       "        }\n",
       "        var button = $('<button/>');\n",
       "        button.addClass('ui-button ui-widget ui-state-default ui-corner-all ' +\n",
       "                        'ui-button-icon-only');\n",
       "        button.attr('role', 'button');\n",
       "        button.attr('aria-disabled', 'false');\n",
       "        button.click(method_name, toolbar_event);\n",
       "        button.mouseover(tooltip, toolbar_mouse_event);\n",
       "\n",
       "        var icon_img = $('<span/>');\n",
       "        icon_img.addClass('ui-button-icon-primary ui-icon');\n",
       "        icon_img.addClass(image);\n",
       "        icon_img.addClass('ui-corner-all');\n",
       "\n",
       "        var tooltip_span = $('<span/>');\n",
       "        tooltip_span.addClass('ui-button-text');\n",
       "        tooltip_span.html(tooltip);\n",
       "\n",
       "        button.append(icon_img);\n",
       "        button.append(tooltip_span);\n",
       "\n",
       "        nav_element.append(button);\n",
       "    }\n",
       "\n",
       "    var fmt_picker_span = $('<span/>');\n",
       "\n",
       "    var fmt_picker = $('<select/>');\n",
       "    fmt_picker.addClass('mpl-toolbar-option ui-widget ui-widget-content');\n",
       "    fmt_picker_span.append(fmt_picker);\n",
       "    nav_element.append(fmt_picker_span);\n",
       "    this.format_dropdown = fmt_picker[0];\n",
       "\n",
       "    for (var ind in mpl.extensions) {\n",
       "        var fmt = mpl.extensions[ind];\n",
       "        var option = $(\n",
       "            '<option/>', {selected: fmt === mpl.default_extension}).html(fmt);\n",
       "        fmt_picker.append(option)\n",
       "    }\n",
       "\n",
       "    // Add hover states to the ui-buttons\n",
       "    $( \".ui-button\" ).hover(\n",
       "        function() { $(this).addClass(\"ui-state-hover\");},\n",
       "        function() { $(this).removeClass(\"ui-state-hover\");}\n",
       "    );\n",
       "\n",
       "    var status_bar = $('<span class=\"mpl-message\"/>');\n",
       "    nav_element.append(status_bar);\n",
       "    this.message = status_bar[0];\n",
       "}\n",
       "\n",
       "mpl.figure.prototype.request_resize = function(x_pixels, y_pixels) {\n",
       "    // Request matplotlib to resize the figure. Matplotlib will then trigger a resize in the client,\n",
       "    // which will in turn request a refresh of the image.\n",
       "    this.send_message('resize', {'width': x_pixels, 'height': y_pixels});\n",
       "}\n",
       "\n",
       "mpl.figure.prototype.send_message = function(type, properties) {\n",
       "    properties['type'] = type;\n",
       "    properties['figure_id'] = this.id;\n",
       "    this.ws.send(JSON.stringify(properties));\n",
       "}\n",
       "\n",
       "mpl.figure.prototype.send_draw_message = function() {\n",
       "    if (!this.waiting) {\n",
       "        this.waiting = true;\n",
       "        this.ws.send(JSON.stringify({type: \"draw\", figure_id: this.id}));\n",
       "    }\n",
       "}\n",
       "\n",
       "\n",
       "mpl.figure.prototype.handle_save = function(fig, msg) {\n",
       "    var format_dropdown = fig.format_dropdown;\n",
       "    var format = format_dropdown.options[format_dropdown.selectedIndex].value;\n",
       "    fig.ondownload(fig, format);\n",
       "}\n",
       "\n",
       "\n",
       "mpl.figure.prototype.handle_resize = function(fig, msg) {\n",
       "    var size = msg['size'];\n",
       "    if (size[0] != fig.canvas.width || size[1] != fig.canvas.height) {\n",
       "        fig._resize_canvas(size[0], size[1]);\n",
       "        fig.send_message(\"refresh\", {});\n",
       "    };\n",
       "}\n",
       "\n",
       "mpl.figure.prototype.handle_rubberband = function(fig, msg) {\n",
       "    var x0 = msg['x0'] / mpl.ratio;\n",
       "    var y0 = (fig.canvas.height - msg['y0']) / mpl.ratio;\n",
       "    var x1 = msg['x1'] / mpl.ratio;\n",
       "    var y1 = (fig.canvas.height - msg['y1']) / mpl.ratio;\n",
       "    x0 = Math.floor(x0) + 0.5;\n",
       "    y0 = Math.floor(y0) + 0.5;\n",
       "    x1 = Math.floor(x1) + 0.5;\n",
       "    y1 = Math.floor(y1) + 0.5;\n",
       "    var min_x = Math.min(x0, x1);\n",
       "    var min_y = Math.min(y0, y1);\n",
       "    var width = Math.abs(x1 - x0);\n",
       "    var height = Math.abs(y1 - y0);\n",
       "\n",
       "    fig.rubberband_context.clearRect(\n",
       "        0, 0, fig.canvas.width, fig.canvas.height);\n",
       "\n",
       "    fig.rubberband_context.strokeRect(min_x, min_y, width, height);\n",
       "}\n",
       "\n",
       "mpl.figure.prototype.handle_figure_label = function(fig, msg) {\n",
       "    // Updates the figure title.\n",
       "    fig.header.textContent = msg['label'];\n",
       "}\n",
       "\n",
       "mpl.figure.prototype.handle_cursor = function(fig, msg) {\n",
       "    var cursor = msg['cursor'];\n",
       "    switch(cursor)\n",
       "    {\n",
       "    case 0:\n",
       "        cursor = 'pointer';\n",
       "        break;\n",
       "    case 1:\n",
       "        cursor = 'default';\n",
       "        break;\n",
       "    case 2:\n",
       "        cursor = 'crosshair';\n",
       "        break;\n",
       "    case 3:\n",
       "        cursor = 'move';\n",
       "        break;\n",
       "    }\n",
       "    fig.rubberband_canvas.style.cursor = cursor;\n",
       "}\n",
       "\n",
       "mpl.figure.prototype.handle_message = function(fig, msg) {\n",
       "    fig.message.textContent = msg['message'];\n",
       "}\n",
       "\n",
       "mpl.figure.prototype.handle_draw = function(fig, msg) {\n",
       "    // Request the server to send over a new figure.\n",
       "    fig.send_draw_message();\n",
       "}\n",
       "\n",
       "mpl.figure.prototype.handle_image_mode = function(fig, msg) {\n",
       "    fig.image_mode = msg['mode'];\n",
       "}\n",
       "\n",
       "mpl.figure.prototype.updated_canvas_event = function() {\n",
       "    // Called whenever the canvas gets updated.\n",
       "    this.send_message(\"ack\", {});\n",
       "}\n",
       "\n",
       "// A function to construct a web socket function for onmessage handling.\n",
       "// Called in the figure constructor.\n",
       "mpl.figure.prototype._make_on_message_function = function(fig) {\n",
       "    return function socket_on_message(evt) {\n",
       "        if (evt.data instanceof Blob) {\n",
       "            /* FIXME: We get \"Resource interpreted as Image but\n",
       "             * transferred with MIME type text/plain:\" errors on\n",
       "             * Chrome.  But how to set the MIME type?  It doesn't seem\n",
       "             * to be part of the websocket stream */\n",
       "            evt.data.type = \"image/png\";\n",
       "\n",
       "            /* Free the memory for the previous frames */\n",
       "            if (fig.imageObj.src) {\n",
       "                (window.URL || window.webkitURL).revokeObjectURL(\n",
       "                    fig.imageObj.src);\n",
       "            }\n",
       "\n",
       "            fig.imageObj.src = (window.URL || window.webkitURL).createObjectURL(\n",
       "                evt.data);\n",
       "            fig.updated_canvas_event();\n",
       "            fig.waiting = false;\n",
       "            return;\n",
       "        }\n",
       "        else if (typeof evt.data === 'string' && evt.data.slice(0, 21) == \"data:image/png;base64\") {\n",
       "            fig.imageObj.src = evt.data;\n",
       "            fig.updated_canvas_event();\n",
       "            fig.waiting = false;\n",
       "            return;\n",
       "        }\n",
       "\n",
       "        var msg = JSON.parse(evt.data);\n",
       "        var msg_type = msg['type'];\n",
       "\n",
       "        // Call the  \"handle_{type}\" callback, which takes\n",
       "        // the figure and JSON message as its only arguments.\n",
       "        try {\n",
       "            var callback = fig[\"handle_\" + msg_type];\n",
       "        } catch (e) {\n",
       "            console.log(\"No handler for the '\" + msg_type + \"' message type: \", msg);\n",
       "            return;\n",
       "        }\n",
       "\n",
       "        if (callback) {\n",
       "            try {\n",
       "                // console.log(\"Handling '\" + msg_type + \"' message: \", msg);\n",
       "                callback(fig, msg);\n",
       "            } catch (e) {\n",
       "                console.log(\"Exception inside the 'handler_\" + msg_type + \"' callback:\", e, e.stack, msg);\n",
       "            }\n",
       "        }\n",
       "    };\n",
       "}\n",
       "\n",
       "// from http://stackoverflow.com/questions/1114465/getting-mouse-location-in-canvas\n",
       "mpl.findpos = function(e) {\n",
       "    //this section is from http://www.quirksmode.org/js/events_properties.html\n",
       "    var targ;\n",
       "    if (!e)\n",
       "        e = window.event;\n",
       "    if (e.target)\n",
       "        targ = e.target;\n",
       "    else if (e.srcElement)\n",
       "        targ = e.srcElement;\n",
       "    if (targ.nodeType == 3) // defeat Safari bug\n",
       "        targ = targ.parentNode;\n",
       "\n",
       "    // jQuery normalizes the pageX and pageY\n",
       "    // pageX,Y are the mouse positions relative to the document\n",
       "    // offset() returns the position of the element relative to the document\n",
       "    var x = e.pageX - $(targ).offset().left;\n",
       "    var y = e.pageY - $(targ).offset().top;\n",
       "\n",
       "    return {\"x\": x, \"y\": y};\n",
       "};\n",
       "\n",
       "/*\n",
       " * return a copy of an object with only non-object keys\n",
       " * we need this to avoid circular references\n",
       " * http://stackoverflow.com/a/24161582/3208463\n",
       " */\n",
       "function simpleKeys (original) {\n",
       "  return Object.keys(original).reduce(function (obj, key) {\n",
       "    if (typeof original[key] !== 'object')\n",
       "        obj[key] = original[key]\n",
       "    return obj;\n",
       "  }, {});\n",
       "}\n",
       "\n",
       "mpl.figure.prototype.mouse_event = function(event, name) {\n",
       "    var canvas_pos = mpl.findpos(event)\n",
       "\n",
       "    if (name === 'button_press')\n",
       "    {\n",
       "        this.canvas.focus();\n",
       "        this.canvas_div.focus();\n",
       "    }\n",
       "\n",
       "    var x = canvas_pos.x * mpl.ratio;\n",
       "    var y = canvas_pos.y * mpl.ratio;\n",
       "\n",
       "    this.send_message(name, {x: x, y: y, button: event.button,\n",
       "                             step: event.step,\n",
       "                             guiEvent: simpleKeys(event)});\n",
       "\n",
       "    /* This prevents the web browser from automatically changing to\n",
       "     * the text insertion cursor when the button is pressed.  We want\n",
       "     * to control all of the cursor setting manually through the\n",
       "     * 'cursor' event from matplotlib */\n",
       "    event.preventDefault();\n",
       "    return false;\n",
       "}\n",
       "\n",
       "mpl.figure.prototype._key_event_extra = function(event, name) {\n",
       "    // Handle any extra behaviour associated with a key event\n",
       "}\n",
       "\n",
       "mpl.figure.prototype.key_event = function(event, name) {\n",
       "\n",
       "    // Prevent repeat events\n",
       "    if (name == 'key_press')\n",
       "    {\n",
       "        if (event.which === this._key)\n",
       "            return;\n",
       "        else\n",
       "            this._key = event.which;\n",
       "    }\n",
       "    if (name == 'key_release')\n",
       "        this._key = null;\n",
       "\n",
       "    var value = '';\n",
       "    if (event.ctrlKey && event.which != 17)\n",
       "        value += \"ctrl+\";\n",
       "    if (event.altKey && event.which != 18)\n",
       "        value += \"alt+\";\n",
       "    if (event.shiftKey && event.which != 16)\n",
       "        value += \"shift+\";\n",
       "\n",
       "    value += 'k';\n",
       "    value += event.which.toString();\n",
       "\n",
       "    this._key_event_extra(event, name);\n",
       "\n",
       "    this.send_message(name, {key: value,\n",
       "                             guiEvent: simpleKeys(event)});\n",
       "    return false;\n",
       "}\n",
       "\n",
       "mpl.figure.prototype.toolbar_button_onclick = function(name) {\n",
       "    if (name == 'download') {\n",
       "        this.handle_save(this, null);\n",
       "    } else {\n",
       "        this.send_message(\"toolbar_button\", {name: name});\n",
       "    }\n",
       "};\n",
       "\n",
       "mpl.figure.prototype.toolbar_button_onmouseover = function(tooltip) {\n",
       "    this.message.textContent = tooltip;\n",
       "};\n",
       "mpl.toolbar_items = [[\"Home\", \"Reset original view\", \"fa fa-home icon-home\", \"home\"], [\"Back\", \"Back to  previous view\", \"fa fa-arrow-left icon-arrow-left\", \"back\"], [\"Forward\", \"Forward to next view\", \"fa fa-arrow-right icon-arrow-right\", \"forward\"], [\"\", \"\", \"\", \"\"], [\"Pan\", \"Pan axes with left mouse, zoom with right\", \"fa fa-arrows icon-move\", \"pan\"], [\"Zoom\", \"Zoom to rectangle\", \"fa fa-square-o icon-check-empty\", \"zoom\"], [\"\", \"\", \"\", \"\"], [\"Download\", \"Download plot\", \"fa fa-floppy-o icon-save\", \"download\"]];\n",
       "\n",
       "mpl.extensions = [\"eps\", \"jpeg\", \"pdf\", \"png\", \"ps\", \"raw\", \"svg\", \"tif\"];\n",
       "\n",
       "mpl.default_extension = \"png\";var comm_websocket_adapter = function(comm) {\n",
       "    // Create a \"websocket\"-like object which calls the given IPython comm\n",
       "    // object with the appropriate methods. Currently this is a non binary\n",
       "    // socket, so there is still some room for performance tuning.\n",
       "    var ws = {};\n",
       "\n",
       "    ws.close = function() {\n",
       "        comm.close()\n",
       "    };\n",
       "    ws.send = function(m) {\n",
       "        //console.log('sending', m);\n",
       "        comm.send(m);\n",
       "    };\n",
       "    // Register the callback with on_msg.\n",
       "    comm.on_msg(function(msg) {\n",
       "        //console.log('receiving', msg['content']['data'], msg);\n",
       "        // Pass the mpl event to the overriden (by mpl) onmessage function.\n",
       "        ws.onmessage(msg['content']['data'])\n",
       "    });\n",
       "    return ws;\n",
       "}\n",
       "\n",
       "mpl.mpl_figure_comm = function(comm, msg) {\n",
       "    // This is the function which gets called when the mpl process\n",
       "    // starts-up an IPython Comm through the \"matplotlib\" channel.\n",
       "\n",
       "    var id = msg.content.data.id;\n",
       "    // Get hold of the div created by the display call when the Comm\n",
       "    // socket was opened in Python.\n",
       "    var element = $(\"#\" + id);\n",
       "    var ws_proxy = comm_websocket_adapter(comm)\n",
       "\n",
       "    function ondownload(figure, format) {\n",
       "        window.open(figure.imageObj.src);\n",
       "    }\n",
       "\n",
       "    var fig = new mpl.figure(id, ws_proxy,\n",
       "                           ondownload,\n",
       "                           element.get(0));\n",
       "\n",
       "    // Call onopen now - mpl needs it, as it is assuming we've passed it a real\n",
       "    // web socket which is closed, not our websocket->open comm proxy.\n",
       "    ws_proxy.onopen();\n",
       "\n",
       "    fig.parent_element = element.get(0);\n",
       "    fig.cell_info = mpl.find_output_cell(\"<div id='\" + id + \"'></div>\");\n",
       "    if (!fig.cell_info) {\n",
       "        console.error(\"Failed to find cell for figure\", id, fig);\n",
       "        return;\n",
       "    }\n",
       "\n",
       "    var output_index = fig.cell_info[2]\n",
       "    var cell = fig.cell_info[0];\n",
       "\n",
       "};\n",
       "\n",
       "mpl.figure.prototype.handle_close = function(fig, msg) {\n",
       "    var width = fig.canvas.width/mpl.ratio\n",
       "    fig.root.unbind('remove')\n",
       "\n",
       "    // Update the output cell to use the data from the current canvas.\n",
       "    fig.push_to_output();\n",
       "    var dataURL = fig.canvas.toDataURL();\n",
       "    // Re-enable the keyboard manager in IPython - without this line, in FF,\n",
       "    // the notebook keyboard shortcuts fail.\n",
       "    IPython.keyboard_manager.enable()\n",
       "    $(fig.parent_element).html('<img src=\"' + dataURL + '\" width=\"' + width + '\">');\n",
       "    fig.close_ws(fig, msg);\n",
       "}\n",
       "\n",
       "mpl.figure.prototype.close_ws = function(fig, msg){\n",
       "    fig.send_message('closing', msg);\n",
       "    // fig.ws.close()\n",
       "}\n",
       "\n",
       "mpl.figure.prototype.push_to_output = function(remove_interactive) {\n",
       "    // Turn the data on the canvas into data in the output cell.\n",
       "    var width = this.canvas.width/mpl.ratio\n",
       "    var dataURL = this.canvas.toDataURL();\n",
       "    this.cell_info[1]['text/html'] = '<img src=\"' + dataURL + '\" width=\"' + width + '\">';\n",
       "}\n",
       "\n",
       "mpl.figure.prototype.updated_canvas_event = function() {\n",
       "    // Tell IPython that the notebook contents must change.\n",
       "    IPython.notebook.set_dirty(true);\n",
       "    this.send_message(\"ack\", {});\n",
       "    var fig = this;\n",
       "    // Wait a second, then push the new image to the DOM so\n",
       "    // that it is saved nicely (might be nice to debounce this).\n",
       "    setTimeout(function () { fig.push_to_output() }, 1000);\n",
       "}\n",
       "\n",
       "mpl.figure.prototype._init_toolbar = function() {\n",
       "    var fig = this;\n",
       "\n",
       "    var nav_element = $('<div/>')\n",
       "    nav_element.attr('style', 'width: 100%');\n",
       "    this.root.append(nav_element);\n",
       "\n",
       "    // Define a callback function for later on.\n",
       "    function toolbar_event(event) {\n",
       "        return fig.toolbar_button_onclick(event['data']);\n",
       "    }\n",
       "    function toolbar_mouse_event(event) {\n",
       "        return fig.toolbar_button_onmouseover(event['data']);\n",
       "    }\n",
       "\n",
       "    for(var toolbar_ind in mpl.toolbar_items){\n",
       "        var name = mpl.toolbar_items[toolbar_ind][0];\n",
       "        var tooltip = mpl.toolbar_items[toolbar_ind][1];\n",
       "        var image = mpl.toolbar_items[toolbar_ind][2];\n",
       "        var method_name = mpl.toolbar_items[toolbar_ind][3];\n",
       "\n",
       "        if (!name) { continue; };\n",
       "\n",
       "        var button = $('<button class=\"btn btn-default\" href=\"#\" title=\"' + name + '\"><i class=\"fa ' + image + ' fa-lg\"></i></button>');\n",
       "        button.click(method_name, toolbar_event);\n",
       "        button.mouseover(tooltip, toolbar_mouse_event);\n",
       "        nav_element.append(button);\n",
       "    }\n",
       "\n",
       "    // Add the status bar.\n",
       "    var status_bar = $('<span class=\"mpl-message\" style=\"text-align:right; float: right;\"/>');\n",
       "    nav_element.append(status_bar);\n",
       "    this.message = status_bar[0];\n",
       "\n",
       "    // Add the close button to the window.\n",
       "    var buttongrp = $('<div class=\"btn-group inline pull-right\"></div>');\n",
       "    var button = $('<button class=\"btn btn-mini btn-primary\" href=\"#\" title=\"Stop Interaction\"><i class=\"fa fa-power-off icon-remove icon-large\"></i></button>');\n",
       "    button.click(function (evt) { fig.handle_close(fig, {}); } );\n",
       "    button.mouseover('Stop Interaction', toolbar_mouse_event);\n",
       "    buttongrp.append(button);\n",
       "    var titlebar = this.root.find($('.ui-dialog-titlebar'));\n",
       "    titlebar.prepend(buttongrp);\n",
       "}\n",
       "\n",
       "mpl.figure.prototype._root_extra_style = function(el){\n",
       "    var fig = this\n",
       "    el.on(\"remove\", function(){\n",
       "\tfig.close_ws(fig, {});\n",
       "    });\n",
       "}\n",
       "\n",
       "mpl.figure.prototype._canvas_extra_style = function(el){\n",
       "    // this is important to make the div 'focusable\n",
       "    el.attr('tabindex', 0)\n",
       "    // reach out to IPython and tell the keyboard manager to turn it's self\n",
       "    // off when our div gets focus\n",
       "\n",
       "    // location in version 3\n",
       "    if (IPython.notebook.keyboard_manager) {\n",
       "        IPython.notebook.keyboard_manager.register_events(el);\n",
       "    }\n",
       "    else {\n",
       "        // location in version 2\n",
       "        IPython.keyboard_manager.register_events(el);\n",
       "    }\n",
       "\n",
       "}\n",
       "\n",
       "mpl.figure.prototype._key_event_extra = function(event, name) {\n",
       "    var manager = IPython.notebook.keyboard_manager;\n",
       "    if (!manager)\n",
       "        manager = IPython.keyboard_manager;\n",
       "\n",
       "    // Check for shift+enter\n",
       "    if (event.shiftKey && event.which == 13) {\n",
       "        this.canvas_div.blur();\n",
       "        event.shiftKey = false;\n",
       "        // Send a \"J\" for go to next cell\n",
       "        event.which = 74;\n",
       "        event.keyCode = 74;\n",
       "        manager.command_mode();\n",
       "        manager.handle_keydown(event);\n",
       "    }\n",
       "}\n",
       "\n",
       "mpl.figure.prototype.handle_save = function(fig, msg) {\n",
       "    fig.ondownload(fig, null);\n",
       "}\n",
       "\n",
       "\n",
       "mpl.find_output_cell = function(html_output) {\n",
       "    // Return the cell and output element which can be found *uniquely* in the notebook.\n",
       "    // Note - this is a bit hacky, but it is done because the \"notebook_saving.Notebook\"\n",
       "    // IPython event is triggered only after the cells have been serialised, which for\n",
       "    // our purposes (turning an active figure into a static one), is too late.\n",
       "    var cells = IPython.notebook.get_cells();\n",
       "    var ncells = cells.length;\n",
       "    for (var i=0; i<ncells; i++) {\n",
       "        var cell = cells[i];\n",
       "        if (cell.cell_type === 'code'){\n",
       "            for (var j=0; j<cell.output_area.outputs.length; j++) {\n",
       "                var data = cell.output_area.outputs[j];\n",
       "                if (data.data) {\n",
       "                    // IPython >= 3 moved mimebundle to data attribute of output\n",
       "                    data = data.data;\n",
       "                }\n",
       "                if (data['text/html'] == html_output) {\n",
       "                    return [cell, data, j];\n",
       "                }\n",
       "            }\n",
       "        }\n",
       "    }\n",
       "}\n",
       "\n",
       "// Register the function which deals with the matplotlib target/channel.\n",
       "// The kernel may be null if the page has been refreshed.\n",
       "if (IPython.notebook.kernel != null) {\n",
       "    IPython.notebook.kernel.comm_manager.register_target('matplotlib', mpl.mpl_figure_comm);\n",
       "}\n"
      ],
      "text/plain": [
       "<IPython.core.display.Javascript object>"
      ]
     },
     "metadata": {},
     "output_type": "display_data"
    },
    {
     "data": {
      "text/html": [
       "<img src=\"data:image/png;base64,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\" width=\"640\">"
      ],
      "text/plain": [
       "<IPython.core.display.HTML object>"
      ]
     },
     "metadata": {},
     "output_type": "display_data"
    },
    {
     "name": "stderr",
     "output_type": "stream",
     "text": [
      "C:\\Users\\PRAKASH\\Anaconda3\\lib\\site-packages\\numpy\\lib\\function_base.py:780: RuntimeWarning: invalid value encountered in greater_equal\n",
      "  keep = (tmp_a >= first_edge)\n",
      "C:\\Users\\PRAKASH\\Anaconda3\\lib\\site-packages\\numpy\\lib\\function_base.py:781: RuntimeWarning: invalid value encountered in less_equal\n",
      "  keep &= (tmp_a <= last_edge)\n"
     ]
    },
    {
     "data": {
      "text/plain": [
       "(array([7.0000e+00, 6.0000e+00, 2.0000e+01, 6.5000e+01, 9.4000e+01,\n",
       "        1.4200e+02, 2.9400e+02, 5.2600e+02, 1.2510e+03, 1.8450e+03,\n",
       "        2.5780e+03, 4.0870e+03, 6.1890e+03, 9.6500e+03, 1.3745e+04,\n",
       "        1.8366e+04, 2.0310e+04, 2.0773e+04, 1.9382e+04, 1.8784e+04,\n",
       "        1.5915e+04, 1.1254e+04, 7.5250e+03, 4.9470e+03, 2.8290e+03,\n",
       "        1.4590e+03, 7.4800e+02, 2.2800e+02, 8.4000e+01, 3.9000e+01]),\n",
       " array([33.        , 35.03333333, 37.06666667, 39.1       , 41.13333333,\n",
       "        43.16666667, 45.2       , 47.23333333, 49.26666667, 51.3       ,\n",
       "        53.33333333, 55.36666667, 57.4       , 59.43333333, 61.46666667,\n",
       "        63.5       , 65.53333333, 67.56666667, 69.6       , 71.63333333,\n",
       "        73.66666667, 75.7       , 77.73333333, 79.76666667, 81.8       ,\n",
       "        83.83333333, 85.86666667, 87.9       , 89.93333333, 91.96666667,\n",
       "        94.        ]),\n",
       " <a list of 30 Patch objects>)"
      ]
     },
     "execution_count": 12,
     "metadata": {},
     "output_type": "execute_result"
    }
   ],
   "source": [
    "plt.hist(target, 30, range=(33, 94))"
   ]
  },
  {
   "cell_type": "markdown",
   "metadata": {
    "colab_type": "text",
    "id": "-Zj_7_fvDMSD"
   },
   "source": [
    "almost normal distribution so we can impute mean value for missing value in target."
   ]
  },
  {
   "cell_type": "code",
   "execution_count": 13,
   "metadata": {
    "colab": {
     "autoexec": {
      "startup": false,
      "wait_interval": 0
     }
    },
    "colab_type": "code",
    "id": "iEvCUfinDMSF"
   },
   "outputs": [],
   "source": [
    "y = target.fillna(target.mean())"
   ]
  },
  {
   "cell_type": "code",
   "execution_count": 14,
   "metadata": {
    "colab": {
     "autoexec": {
      "startup": false,
      "wait_interval": 0
     },
     "base_uri": "https://localhost:8080/",
     "height": 34
    },
    "colab_type": "code",
    "executionInfo": {
     "elapsed": 822,
     "status": "ok",
     "timestamp": 1525756645277,
     "user": {
      "displayName": "prakash mishra",
      "photoUrl": "//lh4.googleusercontent.com/-Ej6Y_cq-EAg/AAAAAAAAAAI/AAAAAAAAU3w/qb7u8oox_eU/s50-c-k-no/photo.jpg",
      "userId": "115150043305705155208"
     },
     "user_tz": -330
    },
    "id": "oM40EGOWDMSK",
    "outputId": "53e6845c-c02f-4f92-95ac-daee6fb522de"
   },
   "outputs": [
    {
     "data": {
      "text/plain": [
       "False"
      ]
     },
     "execution_count": 14,
     "metadata": {},
     "output_type": "execute_result"
    }
   ],
   "source": [
    "y.isnull().values.any()"
   ]
  },
  {
   "cell_type": "markdown",
   "metadata": {
    "colab_type": "text",
    "id": "9CVJ7hzADMSS"
   },
   "source": [
    "## Data Exploration :"
   ]
  },
  {
   "cell_type": "code",
   "execution_count": 15,
   "metadata": {
    "colab": {
     "autoexec": {
      "startup": false,
      "wait_interval": 0
     },
     "base_uri": "https://localhost:8080/",
     "height": 187
    },
    "colab_type": "code",
    "executionInfo": {
     "elapsed": 790,
     "status": "ok",
     "timestamp": 1525756646158,
     "user": {
      "displayName": "prakash mishra",
      "photoUrl": "//lh4.googleusercontent.com/-Ej6Y_cq-EAg/AAAAAAAAAAI/AAAAAAAAU3w/qb7u8oox_eU/s50-c-k-no/photo.jpg",
      "userId": "115150043305705155208"
     },
     "user_tz": -330
    },
    "id": "Pei2A7WNDMSU",
    "outputId": "5cf68439-503c-4ed0-fd3d-0d075a9766c3"
   },
   "outputs": [
    {
     "data": {
      "text/plain": [
       "Index(['id', 'player_fifa_api_id', 'player_api_id', 'date', 'potential',\n",
       "       'preferred_foot', 'attacking_work_rate', 'defensive_work_rate',\n",
       "       'crossing', 'finishing', 'heading_accuracy', 'short_passing', 'volleys',\n",
       "       'dribbling', 'curve', 'free_kick_accuracy', 'long_passing',\n",
       "       'ball_control', 'acceleration', 'sprint_speed', 'agility', 'reactions',\n",
       "       'balance', 'shot_power', 'jumping', 'stamina', 'strength', 'long_shots',\n",
       "       'aggression', 'interceptions', 'positioning', 'vision', 'penalties',\n",
       "       'marking', 'standing_tackle', 'sliding_tackle', 'gk_diving',\n",
       "       'gk_handling', 'gk_kicking', 'gk_positioning', 'gk_reflexes'],\n",
       "      dtype='object')"
      ]
     },
     "execution_count": 15,
     "metadata": {},
     "output_type": "execute_result"
    }
   ],
   "source": [
    "df.columns"
   ]
  },
  {
   "cell_type": "code",
   "execution_count": 16,
   "metadata": {
    "colab": {
     "autoexec": {
      "startup": false,
      "wait_interval": 0
     },
     "base_uri": "https://localhost:8080/",
     "height": 714
    },
    "colab_type": "code",
    "executionInfo": {
     "elapsed": 775,
     "status": "ok",
     "timestamp": 1525756647032,
     "user": {
      "displayName": "prakash mishra",
      "photoUrl": "//lh4.googleusercontent.com/-Ej6Y_cq-EAg/AAAAAAAAAAI/AAAAAAAAU3w/qb7u8oox_eU/s50-c-k-no/photo.jpg",
      "userId": "115150043305705155208"
     },
     "user_tz": -330
    },
    "id": "Pl2XTKn2DMSc",
    "outputId": "e4227406-88d5-450a-d3e8-50049cb5c189"
   },
   "outputs": [
    {
     "name": "stdout",
     "output_type": "stream",
     "text": [
      "id--> 183978..int64\n",
      "player_fifa_api_id--> 11062..int64\n",
      "player_api_id--> 11060..int64\n",
      "date--> 197..object\n",
      "potential--> 57..float64\n",
      "preferred_foot--> 3..object\n",
      "attacking_work_rate--> 9..object\n",
      "defensive_work_rate--> 20..object\n",
      "crossing--> 96..float64\n",
      "finishing--> 98..float64\n",
      "heading_accuracy--> 97..float64\n",
      "short_passing--> 96..float64\n",
      "volleys--> 94..float64\n",
      "dribbling--> 98..float64\n",
      "curve--> 93..float64\n",
      "free_kick_accuracy--> 98..float64\n",
      "long_passing--> 96..float64\n",
      "ball_control--> 94..float64\n",
      "acceleration--> 87..float64\n",
      "sprint_speed--> 86..float64\n",
      "agility--> 82..float64\n",
      "reactions--> 79..float64\n",
      "balance--> 82..float64\n",
      "shot_power--> 97..float64\n",
      "jumping--> 80..float64\n",
      "stamina--> 85..float64\n",
      "strength--> 83..float64\n",
      "long_shots--> 97..float64\n",
      "aggression--> 92..float64\n",
      "interceptions--> 97..float64\n",
      "positioning--> 96..float64\n",
      "vision--> 98..float64\n",
      "penalties--> 95..float64\n",
      "marking--> 96..float64\n",
      "standing_tackle--> 96..float64\n",
      "sliding_tackle--> 95..float64\n",
      "gk_diving--> 94..float64\n",
      "gk_handling--> 91..float64\n",
      "gk_kicking--> 98..float64\n",
      "gk_positioning--> 95..float64\n",
      "gk_reflexes--> 93..float64\n"
     ]
    }
   ],
   "source": [
    "for col in df.columns:\n",
    "    unique_cat = len(df[col].unique())\n",
    "    print(\"{col}--> {unique_cat}..{typ}\".format(col=col, unique_cat=unique_cat, typ=df[col].dtype))"
   ]
  },
  {
   "cell_type": "markdown",
   "metadata": {
    "colab_type": "text",
    "id": "jcRinkJGDMSg"
   },
   "source": [
    "we can see only four features have the type 'object'. here the feature named 'date' has no significance in this problem so can ignore it and perform one hot encoding on the rest of 3 features."
   ]
  },
  {
   "cell_type": "code",
   "execution_count": 17,
   "metadata": {
    "colab": {
     "autoexec": {
      "startup": false,
      "wait_interval": 0
     },
     "base_uri": "https://localhost:8080/",
     "height": 423
    },
    "colab_type": "code",
    "executionInfo": {
     "elapsed": 774,
     "status": "ok",
     "timestamp": 1525756647951,
     "user": {
      "displayName": "prakash mishra",
      "photoUrl": "//lh4.googleusercontent.com/-Ej6Y_cq-EAg/AAAAAAAAAAI/AAAAAAAAU3w/qb7u8oox_eU/s50-c-k-no/photo.jpg",
      "userId": "115150043305705155208"
     },
     "user_tz": -330
    },
    "id": "q3M5h6SZDMSi",
    "outputId": "d43983a6-46bb-474a-a141-78ea06ce13db"
   },
   "outputs": [
    {
     "data": {
      "text/html": [
       "<div>\n",
       "<style scoped>\n",
       "    .dataframe tbody tr th:only-of-type {\n",
       "        vertical-align: middle;\n",
       "    }\n",
       "\n",
       "    .dataframe tbody tr th {\n",
       "        vertical-align: top;\n",
       "    }\n",
       "\n",
       "    .dataframe thead th {\n",
       "        text-align: right;\n",
       "    }\n",
       "</style>\n",
       "<table border=\"1\" class=\"dataframe\">\n",
       "  <thead>\n",
       "    <tr style=\"text-align: right;\">\n",
       "      <th></th>\n",
       "      <th>id</th>\n",
       "      <th>player_fifa_api_id</th>\n",
       "      <th>player_api_id</th>\n",
       "      <th>date</th>\n",
       "      <th>potential</th>\n",
       "      <th>crossing</th>\n",
       "      <th>finishing</th>\n",
       "      <th>heading_accuracy</th>\n",
       "      <th>short_passing</th>\n",
       "      <th>volleys</th>\n",
       "      <th>...</th>\n",
       "      <th>defensive_work_rate_9</th>\n",
       "      <th>defensive_work_rate__0</th>\n",
       "      <th>defensive_work_rate_ean</th>\n",
       "      <th>defensive_work_rate_es</th>\n",
       "      <th>defensive_work_rate_high</th>\n",
       "      <th>defensive_work_rate_low</th>\n",
       "      <th>defensive_work_rate_medium</th>\n",
       "      <th>defensive_work_rate_o</th>\n",
       "      <th>defensive_work_rate_ormal</th>\n",
       "      <th>defensive_work_rate_tocky</th>\n",
       "    </tr>\n",
       "  </thead>\n",
       "  <tbody>\n",
       "    <tr>\n",
       "      <th>0</th>\n",
       "      <td>1</td>\n",
       "      <td>218353</td>\n",
       "      <td>505942</td>\n",
       "      <td>2016-02-18 00:00:00</td>\n",
       "      <td>71.0</td>\n",
       "      <td>49.0</td>\n",
       "      <td>44.0</td>\n",
       "      <td>71.0</td>\n",
       "      <td>61.0</td>\n",
       "      <td>44.0</td>\n",
       "      <td>...</td>\n",
       "      <td>0</td>\n",
       "      <td>0</td>\n",
       "      <td>0</td>\n",
       "      <td>0</td>\n",
       "      <td>0</td>\n",
       "      <td>0</td>\n",
       "      <td>1</td>\n",
       "      <td>0</td>\n",
       "      <td>0</td>\n",
       "      <td>0</td>\n",
       "    </tr>\n",
       "    <tr>\n",
       "      <th>1</th>\n",
       "      <td>2</td>\n",
       "      <td>218353</td>\n",
       "      <td>505942</td>\n",
       "      <td>2015-11-19 00:00:00</td>\n",
       "      <td>71.0</td>\n",
       "      <td>49.0</td>\n",
       "      <td>44.0</td>\n",
       "      <td>71.0</td>\n",
       "      <td>61.0</td>\n",
       "      <td>44.0</td>\n",
       "      <td>...</td>\n",
       "      <td>0</td>\n",
       "      <td>0</td>\n",
       "      <td>0</td>\n",
       "      <td>0</td>\n",
       "      <td>0</td>\n",
       "      <td>0</td>\n",
       "      <td>1</td>\n",
       "      <td>0</td>\n",
       "      <td>0</td>\n",
       "      <td>0</td>\n",
       "    </tr>\n",
       "    <tr>\n",
       "      <th>2</th>\n",
       "      <td>3</td>\n",
       "      <td>218353</td>\n",
       "      <td>505942</td>\n",
       "      <td>2015-09-21 00:00:00</td>\n",
       "      <td>66.0</td>\n",
       "      <td>49.0</td>\n",
       "      <td>44.0</td>\n",
       "      <td>71.0</td>\n",
       "      <td>61.0</td>\n",
       "      <td>44.0</td>\n",
       "      <td>...</td>\n",
       "      <td>0</td>\n",
       "      <td>0</td>\n",
       "      <td>0</td>\n",
       "      <td>0</td>\n",
       "      <td>0</td>\n",
       "      <td>0</td>\n",
       "      <td>1</td>\n",
       "      <td>0</td>\n",
       "      <td>0</td>\n",
       "      <td>0</td>\n",
       "    </tr>\n",
       "    <tr>\n",
       "      <th>3</th>\n",
       "      <td>4</td>\n",
       "      <td>218353</td>\n",
       "      <td>505942</td>\n",
       "      <td>2015-03-20 00:00:00</td>\n",
       "      <td>65.0</td>\n",
       "      <td>48.0</td>\n",
       "      <td>43.0</td>\n",
       "      <td>70.0</td>\n",
       "      <td>60.0</td>\n",
       "      <td>43.0</td>\n",
       "      <td>...</td>\n",
       "      <td>0</td>\n",
       "      <td>0</td>\n",
       "      <td>0</td>\n",
       "      <td>0</td>\n",
       "      <td>0</td>\n",
       "      <td>0</td>\n",
       "      <td>1</td>\n",
       "      <td>0</td>\n",
       "      <td>0</td>\n",
       "      <td>0</td>\n",
       "    </tr>\n",
       "    <tr>\n",
       "      <th>4</th>\n",
       "      <td>5</td>\n",
       "      <td>218353</td>\n",
       "      <td>505942</td>\n",
       "      <td>2007-02-22 00:00:00</td>\n",
       "      <td>65.0</td>\n",
       "      <td>48.0</td>\n",
       "      <td>43.0</td>\n",
       "      <td>70.0</td>\n",
       "      <td>60.0</td>\n",
       "      <td>43.0</td>\n",
       "      <td>...</td>\n",
       "      <td>0</td>\n",
       "      <td>0</td>\n",
       "      <td>0</td>\n",
       "      <td>0</td>\n",
       "      <td>0</td>\n",
       "      <td>0</td>\n",
       "      <td>1</td>\n",
       "      <td>0</td>\n",
       "      <td>0</td>\n",
       "      <td>0</td>\n",
       "    </tr>\n",
       "  </tbody>\n",
       "</table>\n",
       "<p>5 rows × 67 columns</p>\n",
       "</div>"
      ],
      "text/plain": [
       "   id  player_fifa_api_id  player_api_id                 date  potential  \\\n",
       "0   1              218353         505942  2016-02-18 00:00:00       71.0   \n",
       "1   2              218353         505942  2015-11-19 00:00:00       71.0   \n",
       "2   3              218353         505942  2015-09-21 00:00:00       66.0   \n",
       "3   4              218353         505942  2015-03-20 00:00:00       65.0   \n",
       "4   5              218353         505942  2007-02-22 00:00:00       65.0   \n",
       "\n",
       "   crossing  finishing  heading_accuracy  short_passing  volleys  \\\n",
       "0      49.0       44.0              71.0           61.0     44.0   \n",
       "1      49.0       44.0              71.0           61.0     44.0   \n",
       "2      49.0       44.0              71.0           61.0     44.0   \n",
       "3      48.0       43.0              70.0           60.0     43.0   \n",
       "4      48.0       43.0              70.0           60.0     43.0   \n",
       "\n",
       "             ...              defensive_work_rate_9  defensive_work_rate__0  \\\n",
       "0            ...                                  0                       0   \n",
       "1            ...                                  0                       0   \n",
       "2            ...                                  0                       0   \n",
       "3            ...                                  0                       0   \n",
       "4            ...                                  0                       0   \n",
       "\n",
       "   defensive_work_rate_ean  defensive_work_rate_es  defensive_work_rate_high  \\\n",
       "0                        0                       0                         0   \n",
       "1                        0                       0                         0   \n",
       "2                        0                       0                         0   \n",
       "3                        0                       0                         0   \n",
       "4                        0                       0                         0   \n",
       "\n",
       "   defensive_work_rate_low  defensive_work_rate_medium  defensive_work_rate_o  \\\n",
       "0                        0                           1                      0   \n",
       "1                        0                           1                      0   \n",
       "2                        0                           1                      0   \n",
       "3                        0                           1                      0   \n",
       "4                        0                           1                      0   \n",
       "\n",
       "   defensive_work_rate_ormal  defensive_work_rate_tocky  \n",
       "0                          0                          0  \n",
       "1                          0                          0  \n",
       "2                          0                          0  \n",
       "3                          0                          0  \n",
       "4                          0                          0  \n",
       "\n",
       "[5 rows x 67 columns]"
      ]
     },
     "execution_count": 17,
     "metadata": {},
     "output_type": "execute_result"
    }
   ],
   "source": [
    "dummy_df = pd.get_dummies(df, columns=['preferred_foot', 'attacking_work_rate', 'defensive_work_rate'])\n",
    "dummy_df.head()"
   ]
  },
  {
   "cell_type": "code",
   "execution_count": 18,
   "metadata": {
    "colab": {
     "autoexec": {
      "startup": false,
      "wait_interval": 0
     }
    },
    "colab_type": "code",
    "id": "dRhHrNnQDMSn"
   },
   "outputs": [],
   "source": [
    "X = dummy_df.drop(['id', 'date'], axis=1)"
   ]
  },
  {
   "cell_type": "markdown",
   "metadata": {
    "colab_type": "text",
    "id": "5EqUC5rMDMSr"
   },
   "source": [
    "***\n",
    "## Feature selection :"
   ]
  },
  {
   "cell_type": "markdown",
   "metadata": {
    "colab_type": "text",
    "id": "lr9IlTXsDMSs"
   },
   "source": [
    "* As tree model doesn't gets affected by missing values present in data set. but feature selection by `SelectFromModel` can not be done on datasets that carries null value. Therefore, we should also perform imputation on dataset. "
   ]
  },
  {
   "cell_type": "code",
   "execution_count": 19,
   "metadata": {
    "colab": {
     "autoexec": {
      "startup": false,
      "wait_interval": 0
     }
    },
    "colab_type": "code",
    "id": "JQYznncKDMSu"
   },
   "outputs": [],
   "source": [
    "X_train, X_test, y_train, y_test = train_test_split(X, y, test_size=0.25, random_state=42)"
   ]
  },
  {
   "cell_type": "code",
   "execution_count": 20,
   "metadata": {
    "colab": {
     "autoexec": {
      "startup": false,
      "wait_interval": 0
     }
    },
    "colab_type": "code",
    "id": "wbgBq4wdDMSw"
   },
   "outputs": [],
   "source": [
    "#imputing null value of each column with the mean of that column\n",
    "imput = Imputer()\n",
    "X_train = imput.fit_transform(X_train)\n",
    "X_test = imput.fit_transform(X_test)"
   ]
  },
  {
   "cell_type": "code",
   "execution_count": 21,
   "metadata": {
    "colab": {
     "autoexec": {
      "startup": false,
      "wait_interval": 0
     },
     "base_uri": "https://localhost:8080/",
     "height": 204
    },
    "colab_type": "code",
    "executionInfo": {
     "elapsed": 26174,
     "status": "ok",
     "timestamp": 1525756677084,
     "user": {
      "displayName": "prakash mishra",
      "photoUrl": "//lh4.googleusercontent.com/-Ej6Y_cq-EAg/AAAAAAAAAAI/AAAAAAAAU3w/qb7u8oox_eU/s50-c-k-no/photo.jpg",
      "userId": "115150043305705155208"
     },
     "user_tz": -330
    },
    "id": "FYtv4rVpDMS_",
    "outputId": "9eb1838a-3771-46db-ccee-eeec38ee5560"
   },
   "outputs": [
    {
     "name": "stdout",
     "output_type": "stream",
     "text": [
      "[0.01714286 0.02       0.10714286 0.02       0.04714286 0.03571429\n",
      " 0.03285714 0.         0.04       0.         0.         0.00714286\n",
      " 0.04714286 0.01       0.01571429 0.00142857 0.18571429 0.\n",
      " 0.01428571 0.00571429 0.00857143 0.03142857 0.00571429 0.00714286\n",
      " 0.01857143 0.01857143 0.00571429 0.         0.04285714 0.04571429\n",
      " 0.01       0.04571429 0.02571429 0.02428572 0.06       0.04285714\n",
      " 0.         0.         0.         0.         0.         0.\n",
      " 0.         0.         0.         0.         0.         0.\n",
      " 0.         0.         0.         0.         0.         0.\n",
      " 0.         0.         0.         0.         0.         0.\n",
      " 0.         0.         0.         0.         0.        ]\n"
     ]
    }
   ],
   "source": [
    "#finding feature_importance for feature selection. from it we'll be able to decide threshold value\n",
    "model = XGBRegressor()\n",
    "model.fit(X_train, y_train)\n",
    "print(model.feature_importances_)"
   ]
  },
  {
   "cell_type": "code",
   "execution_count": 22,
   "metadata": {
    "colab": {
     "autoexec": {
      "startup": false,
      "wait_interval": 0
     }
    },
    "colab_type": "code",
    "id": "hvl6bt6LDMTC"
   },
   "outputs": [],
   "source": [
    "selection = SelectFromModel(model, threshold=0.01, prefit=True)\n",
    "\n",
    "select_X_train = selection.transform(X_train)\n",
    "select_X_test = selection.transform(X_test)"
   ]
  },
  {
   "cell_type": "code",
   "execution_count": 23,
   "metadata": {
    "colab": {
     "autoexec": {
      "startup": false,
      "wait_interval": 0
     },
     "base_uri": "https://localhost:8080/",
     "height": 34
    },
    "colab_type": "code",
    "executionInfo": {
     "elapsed": 1249,
     "status": "ok",
     "timestamp": 1525756679323,
     "user": {
      "displayName": "prakash mishra",
      "photoUrl": "//lh4.googleusercontent.com/-Ej6Y_cq-EAg/AAAAAAAAAAI/AAAAAAAAU3w/qb7u8oox_eU/s50-c-k-no/photo.jpg",
      "userId": "115150043305705155208"
     },
     "user_tz": -330
    },
    "id": "7sqTc4sTDMTF",
    "outputId": "a153b631-99dd-41bf-c306-30d71ecf311c"
   },
   "outputs": [
    {
     "data": {
      "text/plain": [
       "(137983, 24)"
      ]
     },
     "execution_count": 23,
     "metadata": {},
     "output_type": "execute_result"
    }
   ],
   "source": [
    "select_X_train.shape"
   ]
  },
  {
   "cell_type": "markdown",
   "metadata": {
    "colab_type": "text",
    "id": "0j6TvWQcDMTI"
   },
   "source": [
    "## Training different models :"
   ]
  },
  {
   "cell_type": "markdown",
   "metadata": {
    "colab_type": "text",
    "id": "i5VPckscL4bs"
   },
   "source": [
    "### 1. Linear Regression :"
   ]
  },
  {
   "cell_type": "code",
   "execution_count": 24,
   "metadata": {
    "colab": {
     "autoexec": {
      "startup": false,
      "wait_interval": 0
     }
    },
    "colab_type": "code",
    "id": "8jBCiW43MGWB"
   },
   "outputs": [],
   "source": [
    "pipe = make_pipeline(StandardScaler(),             #preprocessing(standard scalling)\n",
    "                     LinearRegression())           #estimator(linear regression)\n",
    "\n",
    "cv = ShuffleSplit(random_state=0)   #defining type of cross_validation(shuffle spliting)\n",
    "\n",
    "param_grid = {'linearregression__n_jobs': [-1]}     #parameters for model tunning\n",
    "\n",
    "grid = GridSearchCV(pipe, param_grid=param_grid, cv=cv)"
   ]
  },
  {
   "cell_type": "code",
   "execution_count": 25,
   "metadata": {
    "colab": {
     "autoexec": {
      "startup": false,
      "wait_interval": 0
     },
     "base_uri": "https://localhost:8080/",
     "height": 190
    },
    "colab_type": "code",
    "executionInfo": {
     "elapsed": 3265,
     "status": "ok",
     "timestamp": 1525757630743,
     "user": {
      "displayName": "prakash mishra",
      "photoUrl": "//lh4.googleusercontent.com/-Ej6Y_cq-EAg/AAAAAAAAAAI/AAAAAAAAU3w/qb7u8oox_eU/s50-c-k-no/photo.jpg",
      "userId": "115150043305705155208"
     },
     "user_tz": -330
    },
    "id": "Q5YuQsmRMGc8",
    "outputId": "e552c95b-9cc1-4c79-97b5-3cc32c580645"
   },
   "outputs": [
    {
     "data": {
      "text/plain": [
       "GridSearchCV(cv=ShuffleSplit(n_splits=10, random_state=0, test_size='default',\n",
       "       train_size=None),\n",
       "       error_score='raise',\n",
       "       estimator=Pipeline(memory=None,\n",
       "     steps=[('standardscaler', StandardScaler(copy=True, with_mean=True, with_std=True)), ('linearregression', LinearRegression(copy_X=True, fit_intercept=True, n_jobs=1, normalize=False))]),\n",
       "       fit_params=None, iid=True, n_jobs=1,\n",
       "       param_grid={'linearregression__n_jobs': [-1]},\n",
       "       pre_dispatch='2*n_jobs', refit=True, return_train_score='warn',\n",
       "       scoring=None, verbose=0)"
      ]
     },
     "execution_count": 25,
     "metadata": {},
     "output_type": "execute_result"
    }
   ],
   "source": [
    "grid.fit(select_X_train, y_train)          #training "
   ]
  },
  {
   "cell_type": "code",
   "execution_count": 26,
   "metadata": {
    "colab": {
     "autoexec": {
      "startup": false,
      "wait_interval": 0
     },
     "base_uri": "https://localhost:8080/",
     "height": 34
    },
    "colab_type": "code",
    "executionInfo": {
     "elapsed": 891,
     "status": "ok",
     "timestamp": 1525757663366,
     "user": {
      "displayName": "prakash mishra",
      "photoUrl": "//lh4.googleusercontent.com/-Ej6Y_cq-EAg/AAAAAAAAAAI/AAAAAAAAU3w/qb7u8oox_eU/s50-c-k-no/photo.jpg",
      "userId": "115150043305705155208"
     },
     "user_tz": -330
    },
    "id": "-3eGL__MPkhh",
    "outputId": "bb23bb86-0361-499b-9f29-10a7d21c05f4"
   },
   "outputs": [
    {
     "data": {
      "text/plain": [
       "{'linearregression__n_jobs': -1}"
      ]
     },
     "execution_count": 26,
     "metadata": {},
     "output_type": "execute_result"
    }
   ],
   "source": [
    "grid.best_params_"
   ]
  },
  {
   "cell_type": "code",
   "execution_count": 27,
   "metadata": {
    "colab": {
     "autoexec": {
      "startup": false,
      "wait_interval": 0
     }
    },
    "colab_type": "code",
    "id": "wIhIICZgQnHx"
   },
   "outputs": [],
   "source": [
    "lin_reg = pickle.dumps(grid)"
   ]
  },
  {
   "cell_type": "markdown",
   "metadata": {
    "colab_type": "text",
    "id": "ycqocdHZYX9j"
   },
   "source": [
    "### 2. Decision Tree :"
   ]
  },
  {
   "cell_type": "code",
   "execution_count": 30,
   "metadata": {
    "colab": {
     "autoexec": {
      "startup": false,
      "wait_interval": 0
     }
    },
    "colab_type": "code",
    "id": "qlIJwsCWYc0K"
   },
   "outputs": [],
   "source": [
    "pipe = make_pipeline(StandardScaler(),                  #preprocessing\n",
    "                     DecisionTreeRegressor(criterion='mse', random_state=0))          #estimator\n",
    "\n",
    "cv = ShuffleSplit(n_splits=10, random_state=42)        #cross validation\n",
    "\n",
    "param_grid = {'decisiontreeregressor__max_depth': [3, 5, 7, 9, 13]}\n",
    "\n",
    "grid = GridSearchCV(pipe, param_grid=param_grid, cv=cv)"
   ]
  },
  {
   "cell_type": "code",
   "execution_count": 31,
   "metadata": {
    "colab": {
     "autoexec": {
      "startup": false,
      "wait_interval": 0
     },
     "base_uri": "https://localhost:8080/",
     "height": 258
    },
    "colab_type": "code",
    "executionInfo": {
     "elapsed": 57317,
     "status": "ok",
     "timestamp": 1525760769471,
     "user": {
      "displayName": "prakash mishra",
      "photoUrl": "//lh4.googleusercontent.com/-Ej6Y_cq-EAg/AAAAAAAAAAI/AAAAAAAAU3w/qb7u8oox_eU/s50-c-k-no/photo.jpg",
      "userId": "115150043305705155208"
     },
     "user_tz": -330
    },
    "id": "dhU3N14ZYc60",
    "outputId": "16c70b5f-8b6b-48c7-cc4c-83b40e5503f0"
   },
   "outputs": [
    {
     "data": {
      "text/plain": [
       "GridSearchCV(cv=ShuffleSplit(n_splits=10, random_state=42, test_size='default',\n",
       "       train_size=None),\n",
       "       error_score='raise',\n",
       "       estimator=Pipeline(memory=None,\n",
       "     steps=[('standardscaler', StandardScaler(copy=True, with_mean=True, with_std=True)), ('decisiontreeregressor', DecisionTreeRegressor(criterion='mse', max_depth=None, max_features=None,\n",
       "           max_leaf_nodes=None, min_impurity_decrease=0.0,\n",
       "           min_impurity_split=None, min_samples_leaf=1,\n",
       "           min_samples_split=2, min_weight_fraction_leaf=0.0,\n",
       "           presort=False, random_state=0, splitter='best'))]),\n",
       "       fit_params=None, iid=True, n_jobs=1,\n",
       "       param_grid={'decisiontreeregressor__max_depth': [3, 5, 7, 9, 13]},\n",
       "       pre_dispatch='2*n_jobs', refit=True, return_train_score='warn',\n",
       "       scoring=None, verbose=0)"
      ]
     },
     "execution_count": 31,
     "metadata": {},
     "output_type": "execute_result"
    }
   ],
   "source": [
    "grid.fit(select_X_train, y_train)          #training "
   ]
  },
  {
   "cell_type": "code",
   "execution_count": 32,
   "metadata": {
    "colab": {
     "autoexec": {
      "startup": false,
      "wait_interval": 0
     },
     "base_uri": "https://localhost:8080/",
     "height": 34
    },
    "colab_type": "code",
    "executionInfo": {
     "elapsed": 803,
     "status": "ok",
     "timestamp": 1525760784877,
     "user": {
      "displayName": "prakash mishra",
      "photoUrl": "//lh4.googleusercontent.com/-Ej6Y_cq-EAg/AAAAAAAAAAI/AAAAAAAAU3w/qb7u8oox_eU/s50-c-k-no/photo.jpg",
      "userId": "115150043305705155208"
     },
     "user_tz": -330
    },
    "id": "6SRj368DYdMX",
    "outputId": "e1d1bc57-d8a8-4963-fd64-cd5f0d90ee4e"
   },
   "outputs": [
    {
     "data": {
      "text/plain": [
       "{'decisiontreeregressor__max_depth': 13}"
      ]
     },
     "execution_count": 32,
     "metadata": {},
     "output_type": "execute_result"
    }
   ],
   "source": [
    "grid.best_params_"
   ]
  },
  {
   "cell_type": "code",
   "execution_count": 33,
   "metadata": {
    "colab": {
     "autoexec": {
      "startup": false,
      "wait_interval": 0
     }
    },
    "colab_type": "code",
    "id": "PTLIxQF9Yc5P"
   },
   "outputs": [],
   "source": [
    "Dectree_reg = pickle.dumps(grid)"
   ]
  },
  {
   "cell_type": "markdown",
   "metadata": {
    "colab_type": "text",
    "id": "-dJ_uGELbZSx"
   },
   "source": [
    "### 3. Ranom Forest :"
   ]
  },
  {
   "cell_type": "code",
   "execution_count": 36,
   "metadata": {
    "colab": {
     "autoexec": {
      "startup": false,
      "wait_interval": 0
     }
    },
    "colab_type": "code",
    "id": "vJLhkkegbjVB"
   },
   "outputs": [],
   "source": [
    "pipe = make_pipeline(StandardScaler(),\n",
    "                     RandomForestRegressor(n_estimators=500, random_state=123))\n",
    "\n",
    "cv = ShuffleSplit(test_size=0.2, random_state=0)\n",
    "\n",
    "param_grid = {'randomforestregressor__max_features':['sqrt', 'log2', 10],\n",
    "              'randomforestregressor__max_depth':[9, 11, 13]}                 \n",
    "\n",
    "grid = GridSearchCV(pipe, param_grid=param_grid, cv=cv)"
   ]
  },
  {
   "cell_type": "code",
   "execution_count": 37,
   "metadata": {
    "colab": {
     "autoexec": {
      "startup": false,
      "wait_interval": 0
     }
    },
    "colab_type": "code",
    "id": "19ii05xDbjb2"
   },
   "outputs": [
    {
     "data": {
      "text/plain": [
       "GridSearchCV(cv=ShuffleSplit(n_splits=10, random_state=0, test_size=0.2, train_size=None),\n",
       "       error_score='raise',\n",
       "       estimator=Pipeline(memory=None,\n",
       "     steps=[('standardscaler', StandardScaler(copy=True, with_mean=True, with_std=True)), ('randomforestregressor', RandomForestRegressor(bootstrap=True, criterion='mse', max_depth=None,\n",
       "           max_features='auto', max_leaf_nodes=None,\n",
       "           min_impurity_decr...imators=500, n_jobs=1,\n",
       "           oob_score=False, random_state=123, verbose=0, warm_start=False))]),\n",
       "       fit_params=None, iid=True, n_jobs=1,\n",
       "       param_grid={'randomforestregressor__max_features': ['sqrt', 'log2', 10], 'randomforestregressor__max_depth': [9, 11, 13]},\n",
       "       pre_dispatch='2*n_jobs', refit=True, return_train_score='warn',\n",
       "       scoring=None, verbose=0)"
      ]
     },
     "execution_count": 37,
     "metadata": {},
     "output_type": "execute_result"
    }
   ],
   "source": [
    "grid.fit(select_X_train, y_train)          #training "
   ]
  },
  {
   "cell_type": "code",
   "execution_count": 38,
   "metadata": {
    "colab": {
     "autoexec": {
      "startup": false,
      "wait_interval": 0
     }
    },
    "colab_type": "code",
    "id": "1c9kqH3Pbjip"
   },
   "outputs": [
    {
     "data": {
      "text/plain": [
       "{'randomforestregressor__max_depth': 13,\n",
       " 'randomforestregressor__max_features': 10}"
      ]
     },
     "execution_count": 38,
     "metadata": {},
     "output_type": "execute_result"
    }
   ],
   "source": [
    "grid.best_params_"
   ]
  },
  {
   "cell_type": "code",
   "execution_count": 39,
   "metadata": {
    "colab": {
     "autoexec": {
      "startup": false,
      "wait_interval": 0
     }
    },
    "colab_type": "code",
    "id": "RYC89pGzbjhM"
   },
   "outputs": [],
   "source": [
    "Randfor_reg = pickle.dumps(grid)"
   ]
  },
  {
   "cell_type": "markdown",
   "metadata": {
    "colab_type": "text",
    "id": "sBRwKR42P_6i"
   },
   "source": [
    "### 4. Xgboost regressor :"
   ]
  },
  {
   "cell_type": "code",
   "execution_count": 42,
   "metadata": {
    "colab": {
     "autoexec": {
      "startup": false,
      "wait_interval": 0
     }
    },
    "colab_type": "code",
    "id": "rq4LHkAEDMTK"
   },
   "outputs": [],
   "source": [
    "pipe = make_pipeline(StandardScaler(),\n",
    "                     XGBRegressor(n_estimators= 500, random_state=42))\n",
    "\n",
    "cv = ShuffleSplit(n_splits=10, random_state=0)\n",
    "\n",
    "param_grid = {'xgbregressor__max_depth': [5, 7],\n",
    "              'xgbregressor__learning_rate': [0.1, 0.3]}\n",
    "\n",
    "grid = GridSearchCV(pipe, param_grid=param_grid, cv=cv, n_jobs= -1)"
   ]
  },
  {
   "cell_type": "code",
   "execution_count": 43,
   "metadata": {
    "colab": {
     "autoexec": {
      "startup": false,
      "wait_interval": 0
     },
     "base_uri": "https://localhost:8080/",
     "height": 255
    },
    "colab_type": "code",
    "executionInfo": {
     "elapsed": 1574505,
     "status": "ok",
     "timestamp": 1525754092644,
     "user": {
      "displayName": "prakash mishra",
      "photoUrl": "//lh4.googleusercontent.com/-Ej6Y_cq-EAg/AAAAAAAAAAI/AAAAAAAAU3w/qb7u8oox_eU/s50-c-k-no/photo.jpg",
      "userId": "115150043305705155208"
     },
     "user_tz": -330
    },
    "id": "NzHo57QgDMTM",
    "outputId": "ea7c410a-a969-4780-8978-66194231384e"
   },
   "outputs": [
    {
     "data": {
      "text/plain": [
       "GridSearchCV(cv=ShuffleSplit(n_splits=10, random_state=0, test_size='default',\n",
       "       train_size=None),\n",
       "       error_score='raise',\n",
       "       estimator=Pipeline(memory=None,\n",
       "     steps=[('standardscaler', StandardScaler(copy=True, with_mean=True, with_std=True)), ('xgbregressor', XGBRegressor(base_score=0.5, booster='gbtree', colsample_bylevel=1,\n",
       "       colsample_bytree=1, gamma=0, learning_rate=0.1, max_delta_step=0,\n",
       "       max_depth=3, ...       reg_alpha=0, reg_lambda=1, scale_pos_weight=1, seed=None,\n",
       "       silent=True, subsample=1))]),\n",
       "       fit_params=None, iid=True, n_jobs=-1,\n",
       "       param_grid={'xgbregressor__max_depth': [5, 7], 'xgbregressor__learning_rate': [0.1, 0.3]},\n",
       "       pre_dispatch='2*n_jobs', refit=True, return_train_score='warn',\n",
       "       scoring=None, verbose=0)"
      ]
     },
     "execution_count": 43,
     "metadata": {},
     "output_type": "execute_result"
    }
   ],
   "source": [
    "grid.fit(select_X_train, y_train)"
   ]
  },
  {
   "cell_type": "code",
   "execution_count": 44,
   "metadata": {
    "colab": {
     "autoexec": {
      "startup": false,
      "wait_interval": 0
     },
     "base_uri": "https://localhost:8080/",
     "height": 34
    },
    "colab_type": "code",
    "executionInfo": {
     "elapsed": 877,
     "status": "ok",
     "timestamp": 1525754206613,
     "user": {
      "displayName": "prakash mishra",
      "photoUrl": "//lh4.googleusercontent.com/-Ej6Y_cq-EAg/AAAAAAAAAAI/AAAAAAAAU3w/qb7u8oox_eU/s50-c-k-no/photo.jpg",
      "userId": "115150043305705155208"
     },
     "user_tz": -330
    },
    "id": "kG08UnpuDMTW",
    "outputId": "52fce7cd-ce5d-4baf-8f6c-8b18cd3977b4"
   },
   "outputs": [
    {
     "data": {
      "text/plain": [
       "{'xgbregressor__learning_rate': 0.3, 'xgbregressor__max_depth': 7}"
      ]
     },
     "execution_count": 44,
     "metadata": {},
     "output_type": "execute_result"
    }
   ],
   "source": [
    "grid.best_params_"
   ]
  },
  {
   "cell_type": "code",
   "execution_count": 45,
   "metadata": {
    "colab": {
     "autoexec": {
      "startup": false,
      "wait_interval": 0
     }
    },
    "colab_type": "code",
    "id": "8jWP033hf4t5"
   },
   "outputs": [],
   "source": [
    "xgbreg = pickle.dumps(grid)"
   ]
  },
  {
   "cell_type": "markdown",
   "metadata": {
    "colab_type": "text",
    "id": "g3m4adxqhpxa"
   },
   "source": [
    "## <u>Comparision between different models</u> :"
   ]
  },
  {
   "cell_type": "code",
   "execution_count": 48,
   "metadata": {},
   "outputs": [],
   "source": [
    "lin_reg = pickle.loads(lin_reg)\n",
    "Dectree_reg = pickle.loads(Dectree_reg)\n",
    "Randfor_reg = pickle.loads(Randfor_reg)\n",
    "xgbreg = pickle.loads(xgbreg)"
   ]
  },
  {
   "cell_type": "code",
   "execution_count": 49,
   "metadata": {
    "colab": {
     "autoexec": {
      "startup": false,
      "wait_interval": 0
     }
    },
    "colab_type": "code",
    "id": "PYxBPcV9hvc-"
   },
   "outputs": [
    {
     "name": "stdout",
     "output_type": "stream",
     "text": [
      "Linear Regressor accuracy is 0.8547439877398585\n",
      "DecisionTree Regressor accuracy is 0.9300656646020649\n",
      "RandomForest regressor accuracy is 0.9642395895691055\n",
      "XGBoost regressor accuracy is 0.9823349639170261\n"
     ]
    }
   ],
   "source": [
    "print(\"\"\"Linear Regressor accuracy is {lin}\n",
    "DecisionTree Regressor accuracy is {Dec}\n",
    "RandomForest regressor accuracy is {ran}\n",
    "XGBoost regressor accuracy is {xgb}\"\"\".format(lin=lin_reg.score(select_X_test, y_test),\n",
    "                                                       Dec=Dectree_reg.score(select_X_test, y_test),\n",
    "                                                       ran=Randfor_reg.score(select_X_test, y_test),\n",
    "                                                       xgb=xgbreg.score(select_X_test, y_test)))"
   ]
  },
  {
   "cell_type": "markdown",
   "metadata": {},
   "source": [
    "By accuracy comparision performed above we can say hear that XGBoost regressor gives better result than any other model. and it can predict the target function with approx 98% accuracy."
   ]
  },
  {
   "cell_type": "code",
   "execution_count": null,
   "metadata": {},
   "outputs": [],
   "source": []
  },
  {
   "cell_type": "code",
   "execution_count": null,
   "metadata": {},
   "outputs": [],
   "source": []
  }
 ],
 "metadata": {
  "accelerator": "GPU",
  "colab": {
   "default_view": {},
   "name": "Copy of projetct_1.ipynb",
   "provenance": [
    {
     "file_id": "18Fjvl5YDMcWsGDnwxkpm4dHech-t8qEh",
     "timestamp": 1525763054939
    }
   ],
   "version": "0.3.2",
   "views": {}
  },
  "kernelspec": {
   "display_name": "Python 3",
   "language": "python",
   "name": "python3"
  },
  "language_info": {
   "codemirror_mode": {
    "name": "ipython",
    "version": 3
   },
   "file_extension": ".py",
   "mimetype": "text/x-python",
   "name": "python",
   "nbconvert_exporter": "python",
   "pygments_lexer": "ipython3",
   "version": "3.7.9"
  }
 },
 "nbformat": 4,
 "nbformat_minor": 1
}
